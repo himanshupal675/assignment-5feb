{
 "cells": [
  {
   "cell_type": "code",
   "execution_count": null,
   "id": "6e68895f-accc-4967-a867-05f46f02eac6",
   "metadata": {},
   "outputs": [],
   "source": [
    "#Q1. Explain Class and Object with respect to Object-Oriented Programming. Give a suitable example.\n",
    "\n",
    "\"\"\"A class is a user-defined blueprint or prototype from which objects are created. Classes provide a means of bundling \n",
    "data and functionality together. Creating a new class creates a new type of object, allowing new instances of that type\n",
    "to be made. Each class instance can have attributes attached to it for maintaining its state. Class instances can also \n",
    "have methods (defined by their class) for modifying their state.\"\"\""
   ]
  },
  {
   "cell_type": "code",
   "execution_count": null,
   "id": "2a15d645-df66-46a1-87f7-5a1049969912",
   "metadata": {},
   "outputs": [],
   "source": [
    "#Q2. Name the four pillars of OOPs.\n",
    "\"\"\"The Four Pillars of Object Oriented Programming\n",
    "  1. Abstraction\n",
    "  2. Encapsulation\n",
    "  3. Inheritance\n",
    "  4. Polymorphism    \"\"\"\n"
   ]
  },
  {
   "cell_type": "code",
   "execution_count": null,
   "id": "6e8bad0a-836e-434e-bd36-368638f8dc75",
   "metadata": {},
   "outputs": [],
   "source": [
    "#Q3. Explain why the __init__() function is used. Give a suitable example.\n",
    "\"\"\"To understand the meaning of classes we have to understand the built-in __init__() function.\n",
    "All classes have a function called __init__(), which is always executed when the class is being initiated.\n",
    "Use the __init__() function to assign values to object properties, or other operations that are necessary \n",
    "to do when the object is being created\"\"\""
   ]
  },
  {
   "cell_type": "code",
   "execution_count": null,
   "id": "3cd65bbd-ddd0-4bdd-8850-da9611671721",
   "metadata": {},
   "outputs": [],
   "source": [
    "#Q5. What is inheritance? Give an example for each type of inheritance.\n",
    "\"\"\"Inheritance is a mechanism of acquiring the features and behaviors of a class by another class.\n",
    "The class whose members are inherited is called the base class, and the class that inherits those\n",
    "members is called the derived class. Inheritance implements the IS-A relationship.\n",
    "\n",
    "For example, mammal IS-A animal, dog IS-A mammal; Hence dog IS-A animal as well.\"\"\""
   ]
  },
  {
   "cell_type": "code",
   "execution_count": null,
   "id": "6c795bdd-ef33-4a43-aa74-f25983546b2f",
   "metadata": {},
   "outputs": [],
   "source": []
  },
  {
   "cell_type": "code",
   "execution_count": null,
   "id": "eecb1bf6-6459-4115-b652-ed6e7927b07c",
   "metadata": {},
   "outputs": [],
   "source": []
  },
  {
   "cell_type": "code",
   "execution_count": null,
   "id": "f351771a-adc9-4792-8961-f9a03c96e603",
   "metadata": {},
   "outputs": [],
   "source": []
  }
 ],
 "metadata": {
  "kernelspec": {
   "display_name": "Python 3 (ipykernel)",
   "language": "python",
   "name": "python3"
  },
  "language_info": {
   "codemirror_mode": {
    "name": "ipython",
    "version": 3
   },
   "file_extension": ".py",
   "mimetype": "text/x-python",
   "name": "python",
   "nbconvert_exporter": "python",
   "pygments_lexer": "ipython3",
   "version": "3.10.8"
  }
 },
 "nbformat": 4,
 "nbformat_minor": 5
}
